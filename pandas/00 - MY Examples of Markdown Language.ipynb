{
 "cells": [
  {
   "cell_type": "markdown",
   "metadata": {},
   "source": [
    "### <font color=yellow> The line of code you've provided appears to be using the pandas library in Python, specifically working with categorical data.</font>\n",
    "\n",
    "#### <font color=yellow> Explanation:</font>\n",
    "\n",
    "1. <font color=#f5b042>Pandas Categorical Data: In pandas, categorical data are a type of data that can take on one of a limited, and usually fixed, number of possible values (categories). Examples include gender, social class, blood type, country affiliation, observation time or ratings via Likert scales.</font>\n",
    "\n",
    "1. <font color=#f5b042>The cat Accessor: In the code, s.cat is used. Here, s is presumably a pandas Series. When you have a Series with categorical data, you can access special categorical methods by using .cat. This is similar to how you use .str for string methods on a Series of strings.</font>\n",
    "\n",
    "1. <font color=#f5b042>reorder_categories() Method: The reorder_categories() method is used to reorder the categories of a categorical variable. This does not change the values, but only how they are ordered within the categorical scheme.</font>\n",
    "\n",
    "1. <font color=#f5b042>Categories List: ['xs', 's', 'm', 'l', 'xl'] is the new order of categories. This means that 'xs' will be considered the 'smallest' or 'first' category, and 'xl' will be considered the 'largest' or 'last'.</font>\n",
    "\n",
    "1. <font color=#f5b042> 1. ordered=True: This argument specifies that the categorical variable is ordered. An ordered categorical is one where the order of the categories carries meaning. For example, in sizes like 'xs', 's', 'm', 'l', 'xl', the order is meaningful ('xs' is smaller than 's', and so on).</font>\n",
    "\n",
    "****<font color=red>In summary, this line of code is taking a pandas Series s that contains categorical data, and reordering its categories to follow the order 'xs', 's', 'm', 'l', 'xl', and setting these categories as ordered. This can be particularly useful when you need to perform operations that depend on the order of the categories, such as sorting or comparisons.</font>****"
   ]
  },
  {
   "cell_type": "markdown",
   "metadata": {},
   "source": [
    "# <font color=yellow>Series of fahrenheit temperatures</font>\n",
    "## Purpose\n",
    "\n",
    "* <font color=#f5b042>Create a list of fahrenheit temperatures</font>\n",
    "* <font color=#f5b042>Calculate the mean of the temperatures</font>\n",
    "\n",
    "\n",
    "### <font color=red>Find which all temperatures that are greater than the mean temperature.</font>"
   ]
  },
  {
   "cell_type": "code",
   "execution_count": 1,
   "metadata": {},
   "outputs": [
    {
     "data": {
      "text/plain": [
       "100.0"
      ]
     },
     "execution_count": 1,
     "metadata": {},
     "output_type": "execute_result"
    }
   ],
   "source": [
    "def convert_to_clesius ( fahrenheit_temperature:float) -> float :\n",
    "    return (fahrenheit_temperature - 32) * (5 / 9)\n",
    "clesius = convert_to_clesius(212)\n",
    "clesius"
   ]
  },
  {
   "cell_type": "code",
   "execution_count": 2,
   "metadata": {},
   "outputs": [
    {
     "data": {
      "text/plain": [
       "212.0"
      ]
     },
     "execution_count": 2,
     "metadata": {},
     "output_type": "execute_result"
    }
   ],
   "source": [
    "def convert_to_fahrenheit (celcsius_temperature:float) -> float :\n",
    "    return (celcsius_temperature * 9/5) + 32\n",
    "fahrenheit = convert_to_fahrenheit(100)\n",
    "fahrenheit"
   ]
  },
  {
   "cell_type": "markdown",
   "metadata": {},
   "source": [
    "String function to capitalize each word"
   ]
  },
  {
   "cell_type": "code",
   "execution_count": 3,
   "metadata": {},
   "outputs": [
    {
     "data": {
      "text/plain": [
       "'Peter'"
      ]
     },
     "execution_count": 3,
     "metadata": {},
     "output_type": "execute_result"
    }
   ],
   "source": [
    "name = 'peter'\n",
    "name.title()"
   ]
  },
  {
   "cell_type": "markdown",
   "metadata": {},
   "source": [
    "pathlib"
   ]
  },
  {
   "cell_type": "code",
   "execution_count": null,
   "metadata": {},
   "outputs": [],
   "source": [
    "from pathlib import Path\n",
    "Path(r'V:\\OCCAMFromEC3\\ExportedVirtualMachines\\Windows 10 Pro\\Virtual Machines')\n",
    "str(Path(r'V:\\OCCAMFromEC3\\ExportedVirtualMachines\\Windows 10 Pro\\Virtual Machines'))"
   ]
  },
  {
   "cell_type": "code",
   "execution_count": 4,
   "metadata": {},
   "outputs": [
    {
     "data": {
      "text/html": [
       "<div>\n",
       "<style scoped>\n",
       "    .dataframe tbody tr th:only-of-type {\n",
       "        vertical-align: middle;\n",
       "    }\n",
       "\n",
       "    .dataframe tbody tr th {\n",
       "        vertical-align: top;\n",
       "    }\n",
       "\n",
       "    .dataframe thead th {\n",
       "        text-align: right;\n",
       "    }\n",
       "</style>\n",
       "<table border=\"1\" class=\"dataframe\">\n",
       "  <thead>\n",
       "    <tr style=\"text-align: right;\">\n",
       "      <th></th>\n",
       "      <th>ID</th>\n",
       "      <th>order_date</th>\n",
       "      <th>delivery_date</th>\n",
       "    </tr>\n",
       "  </thead>\n",
       "  <tbody>\n",
       "    <tr>\n",
       "      <th>0</th>\n",
       "      <td>1</td>\n",
       "      <td>5/24/98</td>\n",
       "      <td>2/5/99</td>\n",
       "    </tr>\n",
       "    <tr>\n",
       "      <th>1</th>\n",
       "      <td>2</td>\n",
       "      <td>4/22/92</td>\n",
       "      <td>3/6/98</td>\n",
       "    </tr>\n",
       "    <tr>\n",
       "      <th>2</th>\n",
       "      <td>4</td>\n",
       "      <td>2/10/91</td>\n",
       "      <td>8/26/92</td>\n",
       "    </tr>\n",
       "    <tr>\n",
       "      <th>3</th>\n",
       "      <td>5</td>\n",
       "      <td>7/21/92</td>\n",
       "      <td>11/20/97</td>\n",
       "    </tr>\n",
       "    <tr>\n",
       "      <th>4</th>\n",
       "      <td>7</td>\n",
       "      <td>9/2/93</td>\n",
       "      <td>6/10/98</td>\n",
       "    </tr>\n",
       "    <tr>\n",
       "      <th>...</th>\n",
       "      <td>...</td>\n",
       "      <td>...</td>\n",
       "      <td>...</td>\n",
       "    </tr>\n",
       "    <tr>\n",
       "      <th>496</th>\n",
       "      <td>990</td>\n",
       "      <td>6/24/91</td>\n",
       "      <td>2/2/96</td>\n",
       "    </tr>\n",
       "    <tr>\n",
       "      <th>497</th>\n",
       "      <td>991</td>\n",
       "      <td>9/9/91</td>\n",
       "      <td>3/30/98</td>\n",
       "    </tr>\n",
       "    <tr>\n",
       "      <th>498</th>\n",
       "      <td>993</td>\n",
       "      <td>11/16/90</td>\n",
       "      <td>4/27/98</td>\n",
       "    </tr>\n",
       "    <tr>\n",
       "      <th>499</th>\n",
       "      <td>994</td>\n",
       "      <td>6/3/93</td>\n",
       "      <td>6/13/93</td>\n",
       "    </tr>\n",
       "    <tr>\n",
       "      <th>500</th>\n",
       "      <td>997</td>\n",
       "      <td>1/4/90</td>\n",
       "      <td>10/3/91</td>\n",
       "    </tr>\n",
       "  </tbody>\n",
       "</table>\n",
       "<p>501 rows × 3 columns</p>\n",
       "</div>"
      ],
      "text/plain": [
       "      ID order_date delivery_date\n",
       "0      1    5/24/98        2/5/99\n",
       "1      2    4/22/92        3/6/98\n",
       "2      4    2/10/91       8/26/92\n",
       "3      5    7/21/92      11/20/97\n",
       "4      7     9/2/93       6/10/98\n",
       "..   ...        ...           ...\n",
       "496  990    6/24/91        2/2/96\n",
       "497  991     9/9/91       3/30/98\n",
       "498  993   11/16/90       4/27/98\n",
       "499  994     6/3/93       6/13/93\n",
       "500  997     1/4/90       10/3/91\n",
       "\n",
       "[501 rows x 3 columns]"
      ]
     },
     "execution_count": 4,
     "metadata": {},
     "output_type": "execute_result"
    }
   ],
   "source": [
    "import pandas as pd\n",
    "import numpy as np\n",
    "from pathlib import Path\n",
    "pd.__version__\n",
    "pd.read_csv(\"ecommerce.csv\")\n"
   ]
  }
 ],
 "metadata": {
  "kernelspec": {
   "display_name": "Python 3",
   "language": "python",
   "name": "python3"
  },
  "language_info": {
   "codemirror_mode": {
    "name": "ipython",
    "version": 3
   },
   "file_extension": ".py",
   "mimetype": "text/x-python",
   "name": "python",
   "nbconvert_exporter": "python",
   "pygments_lexer": "ipython3",
   "version": "3.12.0"
  }
 },
 "nbformat": 4,
 "nbformat_minor": 2
}
