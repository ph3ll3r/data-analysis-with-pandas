{
 "cells": [
  {
   "cell_type": "markdown",
   "metadata": {},
   "source": [
    "\n",
    "### <font color=yellow>****Testing my python coding prior to working on the pandas in chapter 3 of the video****</font>"
   ]
  },
  {
   "cell_type": "code",
   "execution_count": 3,
   "metadata": {},
   "outputs": [
    {
     "data": {
      "text/html": [
       "<div>\n",
       "<style scoped>\n",
       "    .dataframe tbody tr th:only-of-type {\n",
       "        vertical-align: middle;\n",
       "    }\n",
       "\n",
       "    .dataframe tbody tr th {\n",
       "        vertical-align: top;\n",
       "    }\n",
       "\n",
       "    .dataframe thead th {\n",
       "        text-align: right;\n",
       "    }\n",
       "</style>\n",
       "<table border=\"1\" class=\"dataframe\">\n",
       "  <thead>\n",
       "    <tr style=\"text-align: right;\">\n",
       "      <th></th>\n",
       "      <th>ID</th>\n",
       "      <th>order_date</th>\n",
       "      <th>delivery_date</th>\n",
       "    </tr>\n",
       "  </thead>\n",
       "  <tbody>\n",
       "    <tr>\n",
       "      <th>0</th>\n",
       "      <td>1</td>\n",
       "      <td>5/24/98</td>\n",
       "      <td>2/5/99</td>\n",
       "    </tr>\n",
       "    <tr>\n",
       "      <th>1</th>\n",
       "      <td>2</td>\n",
       "      <td>4/22/92</td>\n",
       "      <td>3/6/98</td>\n",
       "    </tr>\n",
       "    <tr>\n",
       "      <th>2</th>\n",
       "      <td>4</td>\n",
       "      <td>2/10/91</td>\n",
       "      <td>8/26/92</td>\n",
       "    </tr>\n",
       "    <tr>\n",
       "      <th>3</th>\n",
       "      <td>5</td>\n",
       "      <td>7/21/92</td>\n",
       "      <td>11/20/97</td>\n",
       "    </tr>\n",
       "    <tr>\n",
       "      <th>4</th>\n",
       "      <td>7</td>\n",
       "      <td>9/2/93</td>\n",
       "      <td>6/10/98</td>\n",
       "    </tr>\n",
       "    <tr>\n",
       "      <th>...</th>\n",
       "      <td>...</td>\n",
       "      <td>...</td>\n",
       "      <td>...</td>\n",
       "    </tr>\n",
       "    <tr>\n",
       "      <th>496</th>\n",
       "      <td>990</td>\n",
       "      <td>6/24/91</td>\n",
       "      <td>2/2/96</td>\n",
       "    </tr>\n",
       "    <tr>\n",
       "      <th>497</th>\n",
       "      <td>991</td>\n",
       "      <td>9/9/91</td>\n",
       "      <td>3/30/98</td>\n",
       "    </tr>\n",
       "    <tr>\n",
       "      <th>498</th>\n",
       "      <td>993</td>\n",
       "      <td>11/16/90</td>\n",
       "      <td>4/27/98</td>\n",
       "    </tr>\n",
       "    <tr>\n",
       "      <th>499</th>\n",
       "      <td>994</td>\n",
       "      <td>6/3/93</td>\n",
       "      <td>6/13/93</td>\n",
       "    </tr>\n",
       "    <tr>\n",
       "      <th>500</th>\n",
       "      <td>997</td>\n",
       "      <td>1/4/90</td>\n",
       "      <td>10/3/91</td>\n",
       "    </tr>\n",
       "  </tbody>\n",
       "</table>\n",
       "<p>501 rows × 3 columns</p>\n",
       "</div>"
      ],
      "text/plain": [
       "      ID order_date delivery_date\n",
       "0      1    5/24/98        2/5/99\n",
       "1      2    4/22/92        3/6/98\n",
       "2      4    2/10/91       8/26/92\n",
       "3      5    7/21/92      11/20/97\n",
       "4      7     9/2/93       6/10/98\n",
       "..   ...        ...           ...\n",
       "496  990    6/24/91        2/2/96\n",
       "497  991     9/9/91       3/30/98\n",
       "498  993   11/16/90       4/27/98\n",
       "499  994     6/3/93       6/13/93\n",
       "500  997     1/4/90       10/3/91\n",
       "\n",
       "[501 rows x 3 columns]"
      ]
     },
     "execution_count": 3,
     "metadata": {},
     "output_type": "execute_result"
    }
   ],
   "source": [
    "import pandas as pd\n",
    "import numpy as np\n",
    "from pathlib import Path\n",
    "pd.__version__\n",
    "pd.read_csv(\"ecommerce.csv\")\n"
   ]
  },
  {
   "cell_type": "code",
   "execution_count": 4,
   "metadata": {},
   "outputs": [
    {
     "data": {
      "text/plain": [
       "'V:\\\\OCCAMFromEC3\\\\ExportedVirtualMachines\\\\Windows 10 Pro\\\\Virtual Machines'"
      ]
     },
     "execution_count": 4,
     "metadata": {},
     "output_type": "execute_result"
    }
   ],
   "source": [
    "from pathlib import Path\n",
    "Path(r'V:\\OCCAMFromEC3\\ExportedVirtualMachines\\Windows 10 Pro\\Virtual Machines')\n",
    "str(Path(r'V:\\OCCAMFromEC3\\ExportedVirtualMachines\\Windows 10 Pro\\Virtual Machines'))"
   ]
  },
  {
   "cell_type": "code",
   "execution_count": 5,
   "metadata": {},
   "outputs": [
    {
     "data": {
      "text/plain": [
       "212.0"
      ]
     },
     "execution_count": 5,
     "metadata": {},
     "output_type": "execute_result"
    }
   ],
   "source": [
    "def convert_to_fahrenheit (celcsius_temperature:float) -> float :\n",
    "    return (celcsius_temperature * 9/5) + 32\n",
    "fahrenheit = convert_to_fahrenheit(100)\n",
    "fahrenheit"
   ]
  },
  {
   "cell_type": "code",
   "execution_count": 6,
   "metadata": {},
   "outputs": [
    {
     "data": {
      "text/plain": [
       "100.0"
      ]
     },
     "execution_count": 6,
     "metadata": {},
     "output_type": "execute_result"
    }
   ],
   "source": [
    "def convert_to_clesius ( fahrenheit_temperature:float) -> float :\n",
    "    return (fahrenheit_temperature - 32) * (5 / 9)\n",
    "clesius = convert_to_clesius(212)\n",
    "clesius"
   ]
  },
  {
   "cell_type": "code",
   "execution_count": 7,
   "metadata": {},
   "outputs": [
    {
     "data": {
      "text/plain": [
       "'Peter'"
      ]
     },
     "execution_count": 7,
     "metadata": {},
     "output_type": "execute_result"
    }
   ],
   "source": [
    "name = 'peter'\n",
    "name.title()"
   ]
  },
  {
   "cell_type": "code",
   "execution_count": 8,
   "metadata": {},
   "outputs": [
    {
     "name": "stdout",
     "output_type": "stream",
     "text": [
      "Fiscal year: 2024: Quarter I\n",
      "Fiscal year: 2024: Quarter II\n",
      "Fiscal year: 2024: Quarter III\n",
      "Fiscal year: 2024: Quarter IV\n"
     ]
    }
   ],
   "source": [
    "from datetime import datetime\n",
    "\n",
    "def get_month_and_year(orderdate) -> int:\n",
    "    # Create a datetime object from the string date\n",
    "    yyyymmdd = datetime.strptime(orderdate, '%Y-%m-%d')\n",
    "    mm = yyyymmdd.month\n",
    "    yyyy = yyyymmdd.year\n",
    "    return mm, yyyy\n",
    "\n",
    "def create_fiscal_year_quarter(orderdate: str = '2024-01-16') -> str:\n",
    "    month, year = get_month_and_year(orderdate)\n",
    " \n",
    "    # Assuming the fiscal year starts in July\n",
    "    \n",
    "    if 6< month < 13 :\n",
    "        fiscal_year = year + 1\n",
    "    else:\n",
    "        fiscal_year = year\n",
    "\n",
    "    if 7 <= month <= 9:\n",
    "        return f\"Fiscal year: {fiscal_year}: Quarter I\"\n",
    "    elif 10 <= month <= 12:\n",
    "        return f\"Fiscal year: {fiscal_year}: Quarter II\"\n",
    "    elif 1 <= month <= 3:\n",
    "        return f\"Fiscal year: {fiscal_year}: Quarter III\"\n",
    "    elif 4 <= month <= 6:\n",
    "        return f\"Fiscal year: {fiscal_year}: Quarter IV\"\n",
    "\n",
    "print(create_fiscal_year_quarter('2023-7-28'))\n",
    "print(create_fiscal_year_quarter('2023-11-28'))\n",
    "print(create_fiscal_year_quarter('2024-2-28'))\n",
    "print(create_fiscal_year_quarter('2024-5-28'))\n",
    "\n"
   ]
  },
  {
   "cell_type": "code",
   "execution_count": 9,
   "metadata": {},
   "outputs": [
    {
     "name": "stdout",
     "output_type": "stream",
     "text": [
      "Calendar year: 2024: Quarter I\n",
      "Calendar year: 2024: Quarter II\n",
      "Calendar year: 2024: Quarter III\n",
      "Calendar year: 2024: Quarter IV\n"
     ]
    }
   ],
   "source": [
    "from datetime import datetime\n",
    "\n",
    "def get_month_and_year(orderdate) -> int:\n",
    "    # Create a datetime object from the string date\n",
    "    yyyymmdd = datetime.strptime(orderdate, '%Y-%m-%d')  # Changed '%y' to '%Y'\n",
    "    mm = yyyymmdd.month\n",
    "    yyyy = yyyymmdd.year\n",
    "    return mm, yyyy\n",
    "\n",
    "def create_calendar_year_quarter(orderdate: str = '2024-01-16') -> str:\n",
    "    month, year = get_month_and_year(orderdate)\n",
    "     \n",
    "    if 1 <= month <= 3:\n",
    "        return f\"Calendar year: {year}: Quarter I\"\n",
    "    elif 4 <= month <= 6:\n",
    "        return f\"Calendar year: {year}: Quarter II\"\n",
    "    elif 7 <= month <= 9:\n",
    "        return f\"Calendar year: {year}: Quarter III\"\n",
    "    elif 10 <= month <= 12:\n",
    "        return f\"Calendar year: {year}: Quarter IV\"\n",
    "\n",
    "# Test the function with different dates\n",
    "print(create_calendar_year_quarter('2024-02-16'))\n",
    "print(create_calendar_year_quarter('2024-05-16'))\n",
    "print(create_calendar_year_quarter('2024-08-16'))\n",
    "print(create_calendar_year_quarter('2024-10-16'))\n",
    "\n",
    "\n"
   ]
  },
  {
   "cell_type": "markdown",
   "metadata": {},
   "source": [
    "### <font color=yellow> The line of code you've provided appears to be using the pandas library in Python, specifically working with categorical data.</font>\n",
    "\n",
    "#### <font color=yellow> Explanation:</font>\n",
    "\n",
    "1. <font color=#f5b042>Pandas Categorical Data: In pandas, categorical data are a type of data that can take on one of a limited, and usually fixed, number of possible values (categories). Examples include gender, social class, blood type, country affiliation, observation time or ratings via Likert scales.</font>\n",
    "\n",
    "1. <font color=#f5b042>The cat Accessor: In the code, s.cat is used. Here, s is presumably a pandas Series. When you have a Series with categorical data, you can access special categorical methods by using .cat. This is similar to how you use .str for string methods on a Series of strings.</font>\n",
    "\n",
    "1. <font color=#f5b042>reorder_categories() Method: The reorder_categories() method is used to reorder the categories of a categorical variable. This does not change the values, but only how they are ordered within the categorical scheme.</font>\n",
    "\n",
    "1. <font color=#f5b042>Categories List: ['xs', 's', 'm', 'l', 'xl'] is the new order of categories. This means that 'xs' will be considered the 'smallest' or 'first' category, and 'xl' will be considered the 'largest' or 'last'.</font>\n",
    "\n",
    "1. <font color=#f5b042> 1. ordered=True: This argument specifies that the categorical variable is ordered. An ordered categorical is one where the order of the categories carries meaning. For example, in sizes like 'xs', 's', 'm', 'l', 'xl', the order is meaningful ('xs' is smaller than 's', and so on).</font>\n",
    "\n",
    "****<font color=red>In summary, this line of code is taking a pandas Series s that contains categorical data, and reordering its categories to follow the order 'xs', 's', 'm', 'l', 'xl', and setting these categories as ordered. This can be particularly useful when you need to perform operations that depend on the order of the categories, such as sorting or comparisons.</font>****"
   ]
  },
  {
   "cell_type": "markdown",
   "metadata": {},
   "source": [
    "# <font color=yellow>Series of fahrenheit temperatures</font>\n",
    "## Purpose\n",
    "\n",
    "* <font color=#f5b042>Create a list of fahrenheit temperatures</font>\n",
    "* <font color=#f5b042>Calculate the mean of the temperatures</font>\n",
    "\n",
    "\n",
    "### <font color=red>Find which all temperatures that are greater than the mean temperature.</font>"
   ]
  },
  {
   "cell_type": "markdown",
   "metadata": {},
   "source": [
    "#### <font color=yellow>****This Python script is designed to process and analyze e-commerce data, particularly focusing on date-related aspects such as calendar and fiscal quarters, and the duration between order and delivery dates. The script uses the Pandas library for data manipulation and the datetime module for handling dates.****</font>\n",
    "\n",
    "##### <font color=red>****Import Statements****</font>\n",
    "1. <font color=#f5b042>'pandas' is a popular data manipulation library in Python.</font>\n",
    "1. <font color=#f5b042>'datetime' is a module for manipulating dates and times.</font>\n",
    "##### <font color=red>****Function****</font>\n",
    "1. <font color=#f5b042>'get_month_and_year''</font>\n",
    "    * <font color=#f5b042>This function takes a date string (orderdate) and returns the month and year as integers.</font>\n",
    "    * <font color=#f5b042>It first tries to parse the date assuming it's in the format 'M/D/YYYY'. If this fails (raises ValueError), it tries 'M/D/YY'.\n",
    "    datetime.strptime is used to convert a string to a datetime object.</font>\n",
    "1. <font color=#f5b042>'create_calendar_year_quarter'</font>\n",
    "    * <font color=#f5b042>This function takes a date string (orderdate) and returns the month and year as integers.</font>\n",
    "    * <font color=#f5b042>It first tries to parse the date assuming it's in the format 'M/D/YYYY'. If this fails (raises ValueError), it tries 'M/D/YY'.\n",
    "    datetime.strptime is used to convert a string to a datetime object.</font>\n",
    "    * <font color=#f5b042>'datetime.strptime is used to convert a string to a datetime object.'</font>\n",
    "1. <font color=#f5b042>'create_fiscal_year_quarter'</font>\n",
    "    * <font color=#f5b042>Similar to create_calendar_year_quarter, but for fiscal quarters.</font>\n",
    "    * <font color=#f5b042>Fiscal year is considered to start in July, so the fiscal year is incremented if the month is between July and December since fiscal year is based upon the year of the months between Juanuary and June </font>\n",
    "1. <font color=#f5b042>'datediff'</font>\n",
    "    * <font color=#f5b042>Calculates the difference in days between two dates</font>\n",
    "    * <font color=#f5b042>Both dates are converted to datetime objects, and the difference in days is returned.</font>\n",
    "##### <font color=red>****Reading CSV Data****</font>\n",
    "1. <font color=#f5b042>The data is read from a CSV file named \"ecommerce.csv\" into a DataFrame 'df'.</font>\n",
    "    * <font color=#f5b042>This function takes a date string (orderdate) and returns the month and year as integers.</font>\n",
    "1. <font color=#f5b042>Applying Functions to DataFrame:</font>\n",
    "    * <font color=#f5b042>The script applies the previously defined functions to the DataFrame to create new columns:</font>\n",
    "        1. <font color=#f5b042>'order_cy_quarter: Calendar year quarter based on the order date.</font>\n",
    "        1. <font color=#f5b042>'delivery_cy_quarter: Calendar year quarter based on the delivery date.</font>\n",
    "        1. <font color=#f5b042>'order_fy_quarter: Fiscal year quarter based on the order date.</font>\n",
    "        1. <font color=#f5b042>'delivery_fy_quarter: Fiscal year quarter based on the delivery date.</font>\n",
    "        1. <font color=#f5b042>'order_to_delivery_days: Number of days from order to delivery.</font>\n",
    "1. <font color=#f5b042>Displaying the DataFrame:</font>\n",
    "    * <font color=#f5b042>Finally, the script prints the DataFrame with the new columns.</font>\n",
    "\n",
    "***<font color=red>In summary, this script is a comprehensive tool for analyzing e-commerce data, particularly focusing on date-related metrics. It is useful for understanding seasonal trends and delivery efficiency. The use of Pandas for data manipulation and the datetime module for date handling makes the script efficient for processing large datasets typically found in e-commerce platforms.</font>****\n",
    "\n",
    "\n"
   ]
  },
  {
   "cell_type": "code",
   "execution_count": null,
   "metadata": {},
   "outputs": [],
   "source": [
    "import pandas as pd\n",
    "from datetime import datetime\n",
    "\n",
    "# Function to get month and year from a date string\n",
    "def get_month_and_year(orderdate) -> (int, int):\n",
    "    try:\n",
    "        # First, try parsing with 'M/D/YYYY' format\n",
    "        date_obj = datetime.strptime(orderdate, '%m/%d/%Y')\n",
    "    except ValueError:\n",
    "        # If it fails, try parsing with 'M/D/YY' format\n",
    "        date_obj = datetime.strptime(orderdate, '%m/%d/%y')\n",
    "    return date_obj.month, date_obj.year\n",
    "\n",
    "\n",
    "# Function to create calendar year quarter\n",
    "def create_calendar_year_quarter(orderdate: str) -> str:\n",
    "    month, year = get_month_and_year(orderdate)\n",
    "    if 1 <= month <= 3:\n",
    "        return f\"CY:{year}-Quarter I\"\n",
    "    elif 4 <= month <= 6:\n",
    "        return f\"CY:{year}-Quarter II\"\n",
    "    elif 7 <= month <= 9:\n",
    "        return f\"CY:{year}-Quarter III\"\n",
    "    elif 10 <= month <= 12:\n",
    "        return f\"CY:{year}-Quarter IV\"\n",
    "\n",
    "# Function to create fiscal year quarter\n",
    "def create_fiscal_year_quarter(orderdate: str) -> str:\n",
    "    month, year = get_month_and_year(orderdate)\n",
    "    fiscal_year = year if month < 7 else year + 1\n",
    "    if 7 <= month <= 9:\n",
    "        return f\"FY{fiscal_year}: Quarter I\"\n",
    "    elif 10 <= month <= 12:\n",
    "        return f\"FY{fiscal_year}: Quarter II\"\n",
    "    elif 1 <= month <= 3:\n",
    "        return f\"FY{fiscal_year}: Quarter III\"\n",
    "    elif 4 <= month <= 6:\n",
    "        return f\"FY{fiscal_year}: Quarter IV\"\n",
    "\n",
    "# Function to calculate the difference in days between two dates\n",
    "def datediff(orderdate: str, deliverydate: str) -> int:\n",
    "    start_date = datetime.strptime(orderdate, '%m/%d/%y')\n",
    "    end_date = datetime.strptime(deliverydate, '%m/%d/%y')\n",
    "    return (end_date - start_date).days\n",
    "\n",
    "# Read the CSV data into a DataFrame\n",
    "df = pd.read_csv(\"ecommerce.csv\")\n",
    "\n",
    "# Apply the functions to the DataFrame\n",
    "df['order_cy_quarter'] = df['order_date'].apply(create_calendar_year_quarter)\n",
    "df['delivery_cy_quarter'] = df['delivery_date'].apply(create_calendar_year_quarter)\n",
    "df['order_fy_quarter'] = df['order_date'].apply(create_fiscal_year_quarter)\n",
    "df['delivery_fy_quarter'] = df['delivery_date'].apply(create_fiscal_year_quarter)\n",
    "df['order_to_delivery_days'] = df.apply(lambda x: datediff(x['order_date'], x['delivery_date']), axis=1)\n",
    "\n",
    "# Display the DataFrame\n",
    "print(df)\n"
   ]
  },
  {
   "cell_type": "code",
   "execution_count": null,
   "metadata": {},
   "outputs": [],
   "source": [
    "# Function to calculate the difference in days between two dates\n",
    "from datetime import datetime\n",
    "\n",
    "def datediff(date_part:str,orderdate: str, deliverydate: str) -> int:\n",
    "    \"\"\"Function to calculate the difference between two dates based upon the date_part\n",
    "    Args:\n",
    "        date_part (str):\n",
    "                            Year: year, y, yy, or yyyy\n",
    "                            Quarter: quarter, qq, q\n",
    "                            Month: month, mm, m\n",
    "                            Day: dayofyear, day, dd, d\n",
    "                            Week: week, wk, ww\n",
    "                            Hour: hour, hh\n",
    "                            Minute: minute, mi, n\n",
    "                            Second: second, ss, s\n",
    "\n",
    "        orderdate (str):    is the starting date for the date difference\n",
    "        deliverydate (str): is the ending date for the date difference\n",
    "\n",
    "    Returns:\n",
    "        int: The date difference between the two dates \n",
    "    \"\"\"\n",
    "    try:\n",
    "        # First, try parsing with 'M/D/YYYY' format\n",
    "        start_date = datetime.strptime(orderdate, '%m/%d/%Y')\n",
    "        end_date = datetime.strptime(deliverydate, '%m/%d/%Y')\n",
    "    except ValueError:\n",
    "        # If it fails, try parsing with 'M/D/YY' format\n",
    "        start_date = datetime.strptime(orderdate, '%m/%d/%y')\n",
    "        end_date = datetime.strptime(deliverydate, '%m/%d/%y')\n",
    "        \n",
    "    date_part_units = {\n",
    "        #Year: year, y, yy, or yyyy\n",
    "        'Y': lambda: (end_date - start_date).year,\n",
    "        #Quarter: quarter, qq, q\n",
    "        'Q': (end_date - start_date).quarter,\n",
    "        #Month: month, mm, m\n",
    "        'M': (end_date - start_date).month,\n",
    "        #Day: dayofyear, day, dd, d\n",
    "        'D':(end_date - start_date).days,\n",
    "        #Week: week, wk, ww\n",
    "        'W':(end_date - start_date).week,\n",
    "        #Hour: hour, hh\n",
    "        'H': (end_date - start_date).hour,\n",
    "        #Minute: minute, mi, n\n",
    "        'M':(end_date - start_date).minute,\n",
    "        #Second: second, ss, s\n",
    "        'S':(end_date - start_date).seconds\n",
    "    }    \n",
    "    return date_part_units.get(date_part.upper(),lambda:None)\n",
    "\n",
    "a=datediff('d','20240115','20240116')\n",
    "print(a)\n"
   ]
  },
  {
   "cell_type": "code",
   "execution_count": 7,
   "metadata": {},
   "outputs": [
    {
     "name": "stdout",
     "output_type": "stream",
     "text": [
      "0.0\n"
     ]
    }
   ],
   "source": [
    "from datetime import datetime\n",
    "\n",
    "def datediff(date_part: str, orderdate: str, deliverydate: str) -> int:\n",
    "    # \n",
    "    \"\"\"_Function to calculate the difference between two dates based on the date_part\n",
    "\n",
    "    Args:\n",
    "         date_part (str):\n",
    "                            YY : Year, year, y, yy, or yyyy\n",
    "                            QU : Quarter, quarter, qq, q\n",
    "                            MO : Month, month, mm, m\n",
    "                            Day: dayofyear, day, dd, d\n",
    "                            WK : Week, week, wk, ww\n",
    "                            HR : Hour, hour, hh\n",
    "                            MI : Minute, minute, mi, n\n",
    "                            SS : Second, second, ss, s\n",
    "\n",
    "        orderdate (str):    is the starting date for the date difference\n",
    "        deliverydate (str): is the ending date for the date difference\n",
    "\n",
    "    Returns:\n",
    "                       int: The date difference between the two dates \n",
    "    \"\"\"\n",
    "    try:\n",
    "        # Parsing dates assuming 'YYYYMMDD' format\n",
    "        start_date = datetime.strptime(orderdate, '%Y%m%d')\n",
    "        end_date = datetime.strptime(deliverydate, '%Y%m%d')\n",
    "    except ValueError:\n",
    "        return None  # Return None if date format is incorrect\n",
    "\n",
    "    delta = end_date - start_date\n",
    "\n",
    "    date_part_units = {\n",
    "        'YY': lambda: delta.days // 365.25,\n",
    "        'QU': lambda: (delta.days // 90),\n",
    "        'MO': lambda: (delta.days // 30),\n",
    "        'DD': lambda: delta.days,\n",
    "        'WK': lambda: (delta.days // 7),\n",
    "        'HR': lambda: (delta.total_seconds() // 3600),\n",
    "        'MI': lambda: (delta.total_seconds() // 60),\n",
    "        'SS': lambda: delta.total_seconds()\n",
    "    }\n",
    "\n",
    "    return date_part_units.get(date_part.upper(), lambda: None)()\n",
    "\n",
    "a = datediff('YY', '20240102', '20240116')\n",
    "print(a)\n"
   ]
  }
 ],
 "metadata": {
  "kernelspec": {
   "display_name": "Python 3",
   "language": "python",
   "name": "python3"
  },
  "language_info": {
   "codemirror_mode": {
    "name": "ipython",
    "version": 3
   },
   "file_extension": ".py",
   "mimetype": "text/x-python",
   "name": "python",
   "nbconvert_exporter": "python",
   "pygments_lexer": "ipython3",
   "version": "3.12.0"
  }
 },
 "nbformat": 4,
 "nbformat_minor": 2
}
