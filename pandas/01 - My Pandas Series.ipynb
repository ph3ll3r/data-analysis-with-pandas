{
 "cells": [
  {
   "cell_type": "markdown",
   "metadata": {},
   "source": [
    "\n",
    "# <font color=yellow>****Introduction  to Jupyter notebooks****</font>"
   ]
  },
  {
   "cell_type": "code",
   "execution_count": 49,
   "metadata": {},
   "outputs": [
    {
     "data": {
      "text/html": [
       "<div>\n",
       "<style scoped>\n",
       "    .dataframe tbody tr th:only-of-type {\n",
       "        vertical-align: middle;\n",
       "    }\n",
       "\n",
       "    .dataframe tbody tr th {\n",
       "        vertical-align: top;\n",
       "    }\n",
       "\n",
       "    .dataframe thead th {\n",
       "        text-align: right;\n",
       "    }\n",
       "</style>\n",
       "<table border=\"1\" class=\"dataframe\">\n",
       "  <thead>\n",
       "    <tr style=\"text-align: right;\">\n",
       "      <th></th>\n",
       "      <th>ID</th>\n",
       "      <th>order_date</th>\n",
       "      <th>delivery_date</th>\n",
       "    </tr>\n",
       "  </thead>\n",
       "  <tbody>\n",
       "    <tr>\n",
       "      <th>0</th>\n",
       "      <td>1</td>\n",
       "      <td>5/24/98</td>\n",
       "      <td>2/5/99</td>\n",
       "    </tr>\n",
       "    <tr>\n",
       "      <th>1</th>\n",
       "      <td>2</td>\n",
       "      <td>4/22/92</td>\n",
       "      <td>3/6/98</td>\n",
       "    </tr>\n",
       "    <tr>\n",
       "      <th>2</th>\n",
       "      <td>4</td>\n",
       "      <td>2/10/91</td>\n",
       "      <td>8/26/92</td>\n",
       "    </tr>\n",
       "    <tr>\n",
       "      <th>3</th>\n",
       "      <td>5</td>\n",
       "      <td>7/21/92</td>\n",
       "      <td>11/20/97</td>\n",
       "    </tr>\n",
       "    <tr>\n",
       "      <th>4</th>\n",
       "      <td>7</td>\n",
       "      <td>9/2/93</td>\n",
       "      <td>6/10/98</td>\n",
       "    </tr>\n",
       "    <tr>\n",
       "      <th>...</th>\n",
       "      <td>...</td>\n",
       "      <td>...</td>\n",
       "      <td>...</td>\n",
       "    </tr>\n",
       "    <tr>\n",
       "      <th>496</th>\n",
       "      <td>990</td>\n",
       "      <td>6/24/91</td>\n",
       "      <td>2/2/96</td>\n",
       "    </tr>\n",
       "    <tr>\n",
       "      <th>497</th>\n",
       "      <td>991</td>\n",
       "      <td>9/9/91</td>\n",
       "      <td>3/30/98</td>\n",
       "    </tr>\n",
       "    <tr>\n",
       "      <th>498</th>\n",
       "      <td>993</td>\n",
       "      <td>11/16/90</td>\n",
       "      <td>4/27/98</td>\n",
       "    </tr>\n",
       "    <tr>\n",
       "      <th>499</th>\n",
       "      <td>994</td>\n",
       "      <td>6/3/93</td>\n",
       "      <td>6/13/93</td>\n",
       "    </tr>\n",
       "    <tr>\n",
       "      <th>500</th>\n",
       "      <td>997</td>\n",
       "      <td>1/4/90</td>\n",
       "      <td>10/3/91</td>\n",
       "    </tr>\n",
       "  </tbody>\n",
       "</table>\n",
       "<p>501 rows × 3 columns</p>\n",
       "</div>"
      ],
      "text/plain": [
       "      ID order_date delivery_date\n",
       "0      1    5/24/98        2/5/99\n",
       "1      2    4/22/92        3/6/98\n",
       "2      4    2/10/91       8/26/92\n",
       "3      5    7/21/92      11/20/97\n",
       "4      7     9/2/93       6/10/98\n",
       "..   ...        ...           ...\n",
       "496  990    6/24/91        2/2/96\n",
       "497  991     9/9/91       3/30/98\n",
       "498  993   11/16/90       4/27/98\n",
       "499  994     6/3/93       6/13/93\n",
       "500  997     1/4/90       10/3/91\n",
       "\n",
       "[501 rows x 3 columns]"
      ]
     },
     "execution_count": 49,
     "metadata": {},
     "output_type": "execute_result"
    }
   ],
   "source": [
    "import pandas as pd\n",
    "import numpy as np\n",
    "from pathlib import Path\n",
    "pd.__version__\n",
    "pd.read_csv(\"ecommerce.csv\")\n"
   ]
  },
  {
   "cell_type": "code",
   "execution_count": 13,
   "metadata": {},
   "outputs": [
    {
     "data": {
      "text/plain": [
       "'V:\\\\OCCAMFromEC3\\\\ExportedVirtualMachines\\\\Windows 10 Pro\\\\Virtual Machines'"
      ]
     },
     "execution_count": 13,
     "metadata": {},
     "output_type": "execute_result"
    }
   ],
   "source": [
    "from pathlib import Path\n",
    "Path(r'V:\\OCCAMFromEC3\\ExportedVirtualMachines\\Windows 10 Pro\\Virtual Machines')\n",
    "str(Path(r'V:\\OCCAMFromEC3\\ExportedVirtualMachines\\Windows 10 Pro\\Virtual Machines'))"
   ]
  },
  {
   "cell_type": "code",
   "execution_count": 28,
   "metadata": {},
   "outputs": [
    {
     "data": {
      "text/plain": [
       "212.0"
      ]
     },
     "execution_count": 28,
     "metadata": {},
     "output_type": "execute_result"
    }
   ],
   "source": [
    "def convert_to_fahrenheit (celcsius_temperature:float) -> float :\n",
    "    return (celcsius_temperature * 9/5) + 32\n",
    "fahrenheit = convert_to_fahrenheit(100)\n",
    "fahrenheit"
   ]
  },
  {
   "cell_type": "code",
   "execution_count": 32,
   "metadata": {},
   "outputs": [
    {
     "data": {
      "text/plain": [
       "100.0"
      ]
     },
     "execution_count": 32,
     "metadata": {},
     "output_type": "execute_result"
    }
   ],
   "source": [
    "def convert_to_clesius ( fahrenheit_temperature:float) -> float :\n",
    "    return (fahrenheit_temperature - 32) * (5 / 9)\n",
    "clesius = convert_to_clesius(212)\n",
    "clesius"
   ]
  },
  {
   "cell_type": "code",
   "execution_count": 33,
   "metadata": {},
   "outputs": [
    {
     "data": {
      "text/plain": [
       "'Peter'"
      ]
     },
     "execution_count": 33,
     "metadata": {},
     "output_type": "execute_result"
    }
   ],
   "source": [
    "name = 'peter'\n",
    "name.title()"
   ]
  },
  {
   "cell_type": "code",
   "execution_count": 90,
   "metadata": {},
   "outputs": [
    {
     "data": {
      "text/plain": [
       "'Calendar year: 2024: Quarter IV'"
      ]
     },
     "execution_count": 90,
     "metadata": {},
     "output_type": "execute_result"
    }
   ],
   "source": [
    "from datetime import date\n",
    "\n",
    "def create_calendar_year_quarter (orderdate:str = '2024-01-16') -> str :\n",
    "    \"\"\"_summary_\n",
    "\n",
    "    Args:\n",
    "        orderdate (str, optional): _description_. Defaults to '2024-01-16'.\n",
    "\n",
    "    Returns:\n",
    "        str: _description_\n",
    "    \"\"\"\n",
    "    yyyymmdd = date.fromisoformat(orderdate)\n",
    "    mm = \"0\" + str(yyyymmdd.month) if (yyyymmdd.month < 10) else str(month)\n",
    "    yyyy = str(yyyymmdd.year)\n",
    "    \n",
    "    if   (1 <= yyyymmdd.month and yyyymmdd.month <= 3 ) : return (\"Calendar year: \"+ yyyy+\": Quarter I\")\n",
    "    elif (4 <= yyyymmdd.month and yyyymmdd.month <= 6 ) : return (\"Calendar year: \"+ yyyy+\": Quarter II\")\n",
    "    elif (7 <= yyyymmdd.month and yyyymmdd.month <= 9 ) : return (\"Calendar year: \"+ yyyy+\": Quarter III\")\n",
    "    elif (10 <= yyyymmdd.month and yyyymmdd.month <= 12 ) : return (\"Calendar year: \"+ yyyy+\": Quarter IV\")\n",
    "\n",
    "create_calendar_year_quarter('2024-02-16')\n",
    "create_calendar_year_quarter('2024-05-16')\n",
    "create_calendar_year_quarter('2024-08-16')\n",
    "create_calendar_year_quarter('2024-11-16')\n",
    "create_calendar_year_quarter('20241116')\n",
    "    \n",
    "    "
   ]
  },
  {
   "cell_type": "code",
   "execution_count": 84,
   "metadata": {},
   "outputs": [
    {
     "data": {
      "text/plain": [
       "'Fiscal year: 2025: Quarter IV'"
      ]
     },
     "execution_count": 84,
     "metadata": {},
     "output_type": "execute_result"
    }
   ],
   "source": [
    "from datetime import date,datetime\n",
    "\n",
    "def create_fiscal_year_quarter (orderdate:str = '2024-01-16') -> str :\n",
    "    \"\"\"\n",
    "    \n",
    "    Args:\n",
    "        orderdate (str, optional): _description_. Defaults to '2024-01-16'.\n",
    "\n",
    "    Returns:\n",
    "        str: _description_\n",
    "    \"\"\"     \n",
    "    \n",
    "    yyyymmdd = date.fromisoformat(orderdate)\n",
    "    #yyyymmdd = datetime.datetime.strptime(orderdate, '%Y-%m-%d')\n",
    "    \n",
    "    mm = \"0\" + str(yyyymmdd.month) if (yyyymmdd.month < 10) else str(yyyymmdd.month)\n",
    "    yyyy = str(yyyymmdd.year+1) if (7 <= yyyymmdd.year and yyyymmdd.year <= 12) else str(yyyymmdd.year)\n",
    "    \n",
    "    if   (7 <= yyyymmdd.month and yyyymmdd.month <= 9 ) : return (\"Fiscal year: \"+ yyyy+\": Quarter I\")\n",
    "    elif (10 <= yyyymmdd.month and yyyymmdd.month <= 12 ) : return (\"Fiscal year: \"+ yyyy+\": Quarter II\")\n",
    "    elif (1 <= yyyymmdd.month and yyyymmdd.month <= 3 ) : return (\"Fiscal year: \"+ yyyy+\": Quarter III\")\n",
    "    elif (4 <= yyyymmdd.month and yyyymmdd.month <= 6 ) : return (\"Fiscal year: \"+ yyyy+\": Quarter IV\")\n",
    "\n",
    "create_fiscal_year_quarter('2024-07-28')\n",
    "create_fiscal_year_quarter('2024-10-28')\n",
    "create_fiscal_year_quarter('2025-02-28')\n",
    "create_fiscal_year_quarter('2025-05-28')\n",
    "    "
   ]
  },
  {
   "cell_type": "code",
   "execution_count": 89,
   "metadata": {},
   "outputs": [
    {
     "name": "stdout",
     "output_type": "stream",
     "text": [
      "MM: 8 and YYYY: 2023\n"
     ]
    }
   ],
   "source": [
    "import datetime\n",
    "\n",
    "orderdate = '23-08-4'\n",
    "def get_month_and_year(orderdate) -> int :\n",
    "# Create a datetime object from the string date\n",
    "    yyyymmdd = datetime.datetime.strptime(orderdate, '%y-%m-%d')\n",
    "    mm = yyyymmdd.month\n",
    "    yyyy = yyyymmdd.year\n",
    "    return mm,yyyy\n",
    "a,b = get_month_and_year(orderdate)\n",
    "print(f'MM: {a} and YYYY: {b}')"
   ]
  },
  {
   "cell_type": "code",
   "execution_count": 8,
   "metadata": {},
   "outputs": [],
   "source": [
    "from datetime import date,datetime\n",
    "def get_month_and_year(orderdate) -> int :\n",
    "    \n",
    "# Create a datetime object from the string date\n",
    "    yyyymmdd = datetime.datetime.strptime(orderdate, '%y-%m-%d')\n",
    "    mm:int = yyyymmdd.month\n",
    "    yyyy:int = yyyymmdd.year\n",
    "    return mm,yyyy\n"
   ]
  },
  {
   "cell_type": "code",
   "execution_count": 7,
   "metadata": {},
   "outputs": [
    {
     "ename": "AttributeError",
     "evalue": "type object 'datetime.datetime' has no attribute 'datetime'",
     "output_type": "error",
     "traceback": [
      "\u001b[1;31m---------------------------------------------------------------------------\u001b[0m",
      "\u001b[1;31mAttributeError\u001b[0m                            Traceback (most recent call last)",
      "Cell \u001b[1;32mIn[7], line 13\u001b[0m\n\u001b[0;32m     10\u001b[0m     \u001b[38;5;28;01melif\u001b[39;00m (\u001b[38;5;241m1\u001b[39m \u001b[38;5;241m<\u001b[39m\u001b[38;5;241m=\u001b[39m month \u001b[38;5;129;01mand\u001b[39;00m month \u001b[38;5;241m<\u001b[39m\u001b[38;5;241m=\u001b[39m \u001b[38;5;241m3\u001b[39m ) : \u001b[38;5;28;01mreturn\u001b[39;00m (\u001b[38;5;124m\"\u001b[39m\u001b[38;5;124mFiscal year: \u001b[39m\u001b[38;5;124m\"\u001b[39m\u001b[38;5;241m+\u001b[39m year \u001b[38;5;241m+\u001b[39m\u001b[38;5;124m\"\u001b[39m\u001b[38;5;124m: Quarter III\u001b[39m\u001b[38;5;124m\"\u001b[39m)\n\u001b[0;32m     11\u001b[0m     \u001b[38;5;28;01melif\u001b[39;00m (\u001b[38;5;241m4\u001b[39m \u001b[38;5;241m<\u001b[39m\u001b[38;5;241m=\u001b[39m month \u001b[38;5;129;01mand\u001b[39;00m month \u001b[38;5;241m<\u001b[39m\u001b[38;5;241m=\u001b[39m \u001b[38;5;241m6\u001b[39m ) : \u001b[38;5;28;01mreturn\u001b[39;00m (\u001b[38;5;124m\"\u001b[39m\u001b[38;5;124mFiscal year: \u001b[39m\u001b[38;5;124m\"\u001b[39m\u001b[38;5;241m+\u001b[39m year \u001b[38;5;241m+\u001b[39m\u001b[38;5;124m\"\u001b[39m\u001b[38;5;124m: Quarter IV\u001b[39m\u001b[38;5;124m\"\u001b[39m)\n\u001b[1;32m---> 13\u001b[0m \u001b[43mcreate_fiscal_year_quarter\u001b[49m\u001b[43m(\u001b[49m\u001b[38;5;124;43m'\u001b[39;49m\u001b[38;5;124;43m2025-05-28\u001b[39;49m\u001b[38;5;124;43m'\u001b[39;49m\u001b[43m)\u001b[49m\n",
      "Cell \u001b[1;32mIn[7], line 3\u001b[0m, in \u001b[0;36mcreate_fiscal_year_quarter\u001b[1;34m(orderdate)\u001b[0m\n\u001b[0;32m      1\u001b[0m \u001b[38;5;28;01mdef\u001b[39;00m \u001b[38;5;21mcreate_fiscal_year_quarter\u001b[39m (orderdate:\u001b[38;5;28mstr\u001b[39m \u001b[38;5;241m=\u001b[39m \u001b[38;5;124m'\u001b[39m\u001b[38;5;124m2024-01-16\u001b[39m\u001b[38;5;124m'\u001b[39m) \u001b[38;5;241m-\u001b[39m\u001b[38;5;241m>\u001b[39m \u001b[38;5;28mstr\u001b[39m :\n\u001b[1;32m----> 3\u001b[0m     month,year \u001b[38;5;241m=\u001b[39m \u001b[43mget_month_and_year\u001b[49m\u001b[43m(\u001b[49m\u001b[43morderdate\u001b[49m\u001b[43m)\u001b[49m\n\u001b[0;32m      5\u001b[0m     mm \u001b[38;5;241m=\u001b[39m \u001b[38;5;124m\"\u001b[39m\u001b[38;5;124m0\u001b[39m\u001b[38;5;124m\"\u001b[39m \u001b[38;5;241m+\u001b[39m \u001b[38;5;28mstr\u001b[39m(month) \u001b[38;5;28;01mif\u001b[39;00m (month \u001b[38;5;241m<\u001b[39m \u001b[38;5;241m10\u001b[39m) \u001b[38;5;28;01melse\u001b[39;00m \u001b[38;5;28mstr\u001b[39m(month)\n\u001b[0;32m      6\u001b[0m     year \u001b[38;5;241m=\u001b[39m \u001b[38;5;28mstr\u001b[39m(year\u001b[38;5;241m+\u001b[39m\u001b[38;5;241m1\u001b[39m) \u001b[38;5;28;01mif\u001b[39;00m (\u001b[38;5;241m7\u001b[39m \u001b[38;5;241m<\u001b[39m\u001b[38;5;241m=\u001b[39m year \u001b[38;5;129;01mand\u001b[39;00m year \u001b[38;5;241m<\u001b[39m\u001b[38;5;241m=\u001b[39m \u001b[38;5;241m12\u001b[39m) \u001b[38;5;28;01melse\u001b[39;00m \u001b[38;5;28mstr\u001b[39m(year)\n",
      "Cell \u001b[1;32mIn[4], line 5\u001b[0m, in \u001b[0;36mget_month_and_year\u001b[1;34m(orderdate)\u001b[0m\n\u001b[0;32m      2\u001b[0m \u001b[38;5;28;01mdef\u001b[39;00m \u001b[38;5;21mget_month_and_year\u001b[39m(orderdate) \u001b[38;5;241m-\u001b[39m\u001b[38;5;241m>\u001b[39m \u001b[38;5;28mint\u001b[39m :\n\u001b[0;32m      3\u001b[0m     \n\u001b[0;32m      4\u001b[0m \u001b[38;5;66;03m# Create a datetime object from the string date\u001b[39;00m\n\u001b[1;32m----> 5\u001b[0m     yyyymmdd \u001b[38;5;241m=\u001b[39m \u001b[43mdatetime\u001b[49m\u001b[38;5;241;43m.\u001b[39;49m\u001b[43mdatetime\u001b[49m\u001b[38;5;241m.\u001b[39mstrptime(orderdate, \u001b[38;5;124m'\u001b[39m\u001b[38;5;124m%\u001b[39m\u001b[38;5;124my-\u001b[39m\u001b[38;5;124m%\u001b[39m\u001b[38;5;124mm-\u001b[39m\u001b[38;5;132;01m%d\u001b[39;00m\u001b[38;5;124m'\u001b[39m)\n\u001b[0;32m      6\u001b[0m     mm:\u001b[38;5;28mint\u001b[39m \u001b[38;5;241m=\u001b[39m yyyymmdd\u001b[38;5;241m.\u001b[39mmonth\n\u001b[0;32m      7\u001b[0m     yyyy:\u001b[38;5;28mint\u001b[39m \u001b[38;5;241m=\u001b[39m yyyymmdd\u001b[38;5;241m.\u001b[39myear\n",
      "\u001b[1;31mAttributeError\u001b[0m: type object 'datetime.datetime' has no attribute 'datetime'"
     ]
    }
   ],
   "source": [
    "\n",
    "\n",
    "def create_fiscal_year_quarter (orderdate:str = '2024-01-16') -> str :\n",
    "    \n",
    "    month,year = get_month_and_year(orderdate)\n",
    "       \n",
    "    mm = \"0\" + str(month) if (month < 10) else str(month)\n",
    "    year = str(year+1) if (7 <= year and year <= 12) else str(year)\n",
    "\n",
    "    if   (7 <= month and month <= 9 ) : return (\"Fiscal year: \"+ year +\": Quarter I\")\n",
    "    elif (10 <= month and month <= 12 ) : return (\"Fiscal year: \"+ year +\": Quarter II\")\n",
    "    elif (1 <= month and month <= 3 ) : return (\"Fiscal year: \"+ year +\": Quarter III\")\n",
    "    elif (4 <= month and month <= 6 ) : return (\"Fiscal year: \"+ year +\": Quarter IV\")\n",
    "\n",
    "create_fiscal_year_quarter('2025-05-28')\n",
    "\n"
   ]
  }
 ],
 "metadata": {
  "kernelspec": {
   "display_name": "Python 3",
   "language": "python",
   "name": "python3"
  },
  "language_info": {
   "codemirror_mode": {
    "name": "ipython",
    "version": 3
   },
   "file_extension": ".py",
   "mimetype": "text/x-python",
   "name": "python",
   "nbconvert_exporter": "python",
   "pygments_lexer": "ipython3",
   "version": "3.12.0"
  }
 },
 "nbformat": 4,
 "nbformat_minor": 2
}
