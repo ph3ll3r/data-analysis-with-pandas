{
 "cells": [
  {
   "cell_type": "markdown",
   "metadata": {},
   "source": [
    "\n",
    "# <font color=yellow>****Testing my python coding prior to working on the pandas***</font>"
   ]
  },
  {
   "cell_type": "code",
   "execution_count": 3,
   "metadata": {},
   "outputs": [
    {
     "data": {
      "text/html": [
       "<div>\n",
       "<style scoped>\n",
       "    .dataframe tbody tr th:only-of-type {\n",
       "        vertical-align: middle;\n",
       "    }\n",
       "\n",
       "    .dataframe tbody tr th {\n",
       "        vertical-align: top;\n",
       "    }\n",
       "\n",
       "    .dataframe thead th {\n",
       "        text-align: right;\n",
       "    }\n",
       "</style>\n",
       "<table border=\"1\" class=\"dataframe\">\n",
       "  <thead>\n",
       "    <tr style=\"text-align: right;\">\n",
       "      <th></th>\n",
       "      <th>ID</th>\n",
       "      <th>order_date</th>\n",
       "      <th>delivery_date</th>\n",
       "    </tr>\n",
       "  </thead>\n",
       "  <tbody>\n",
       "    <tr>\n",
       "      <th>0</th>\n",
       "      <td>1</td>\n",
       "      <td>5/24/98</td>\n",
       "      <td>2/5/99</td>\n",
       "    </tr>\n",
       "    <tr>\n",
       "      <th>1</th>\n",
       "      <td>2</td>\n",
       "      <td>4/22/92</td>\n",
       "      <td>3/6/98</td>\n",
       "    </tr>\n",
       "    <tr>\n",
       "      <th>2</th>\n",
       "      <td>4</td>\n",
       "      <td>2/10/91</td>\n",
       "      <td>8/26/92</td>\n",
       "    </tr>\n",
       "    <tr>\n",
       "      <th>3</th>\n",
       "      <td>5</td>\n",
       "      <td>7/21/92</td>\n",
       "      <td>11/20/97</td>\n",
       "    </tr>\n",
       "    <tr>\n",
       "      <th>4</th>\n",
       "      <td>7</td>\n",
       "      <td>9/2/93</td>\n",
       "      <td>6/10/98</td>\n",
       "    </tr>\n",
       "    <tr>\n",
       "      <th>...</th>\n",
       "      <td>...</td>\n",
       "      <td>...</td>\n",
       "      <td>...</td>\n",
       "    </tr>\n",
       "    <tr>\n",
       "      <th>496</th>\n",
       "      <td>990</td>\n",
       "      <td>6/24/91</td>\n",
       "      <td>2/2/96</td>\n",
       "    </tr>\n",
       "    <tr>\n",
       "      <th>497</th>\n",
       "      <td>991</td>\n",
       "      <td>9/9/91</td>\n",
       "      <td>3/30/98</td>\n",
       "    </tr>\n",
       "    <tr>\n",
       "      <th>498</th>\n",
       "      <td>993</td>\n",
       "      <td>11/16/90</td>\n",
       "      <td>4/27/98</td>\n",
       "    </tr>\n",
       "    <tr>\n",
       "      <th>499</th>\n",
       "      <td>994</td>\n",
       "      <td>6/3/93</td>\n",
       "      <td>6/13/93</td>\n",
       "    </tr>\n",
       "    <tr>\n",
       "      <th>500</th>\n",
       "      <td>997</td>\n",
       "      <td>1/4/90</td>\n",
       "      <td>10/3/91</td>\n",
       "    </tr>\n",
       "  </tbody>\n",
       "</table>\n",
       "<p>501 rows × 3 columns</p>\n",
       "</div>"
      ],
      "text/plain": [
       "      ID order_date delivery_date\n",
       "0      1    5/24/98        2/5/99\n",
       "1      2    4/22/92        3/6/98\n",
       "2      4    2/10/91       8/26/92\n",
       "3      5    7/21/92      11/20/97\n",
       "4      7     9/2/93       6/10/98\n",
       "..   ...        ...           ...\n",
       "496  990    6/24/91        2/2/96\n",
       "497  991     9/9/91       3/30/98\n",
       "498  993   11/16/90       4/27/98\n",
       "499  994     6/3/93       6/13/93\n",
       "500  997     1/4/90       10/3/91\n",
       "\n",
       "[501 rows x 3 columns]"
      ]
     },
     "execution_count": 3,
     "metadata": {},
     "output_type": "execute_result"
    }
   ],
   "source": [
    "import pandas as pd\n",
    "import numpy as np\n",
    "from pathlib import Path\n",
    "pd.__version__\n",
    "pd.read_csv(\"ecommerce.csv\")\n"
   ]
  },
  {
   "cell_type": "code",
   "execution_count": 4,
   "metadata": {},
   "outputs": [
    {
     "data": {
      "text/plain": [
       "'V:\\\\OCCAMFromEC3\\\\ExportedVirtualMachines\\\\Windows 10 Pro\\\\Virtual Machines'"
      ]
     },
     "execution_count": 4,
     "metadata": {},
     "output_type": "execute_result"
    }
   ],
   "source": [
    "from pathlib import Path\n",
    "Path(r'V:\\OCCAMFromEC3\\ExportedVirtualMachines\\Windows 10 Pro\\Virtual Machines')\n",
    "str(Path(r'V:\\OCCAMFromEC3\\ExportedVirtualMachines\\Windows 10 Pro\\Virtual Machines'))"
   ]
  },
  {
   "cell_type": "code",
   "execution_count": 5,
   "metadata": {},
   "outputs": [
    {
     "data": {
      "text/plain": [
       "212.0"
      ]
     },
     "execution_count": 5,
     "metadata": {},
     "output_type": "execute_result"
    }
   ],
   "source": [
    "def convert_to_fahrenheit (celcsius_temperature:float) -> float :\n",
    "    return (celcsius_temperature * 9/5) + 32\n",
    "fahrenheit = convert_to_fahrenheit(100)\n",
    "fahrenheit"
   ]
  },
  {
   "cell_type": "code",
   "execution_count": 6,
   "metadata": {},
   "outputs": [
    {
     "data": {
      "text/plain": [
       "100.0"
      ]
     },
     "execution_count": 6,
     "metadata": {},
     "output_type": "execute_result"
    }
   ],
   "source": [
    "def convert_to_clesius ( fahrenheit_temperature:float) -> float :\n",
    "    return (fahrenheit_temperature - 32) * (5 / 9)\n",
    "clesius = convert_to_clesius(212)\n",
    "clesius"
   ]
  },
  {
   "cell_type": "code",
   "execution_count": 7,
   "metadata": {},
   "outputs": [
    {
     "data": {
      "text/plain": [
       "'Peter'"
      ]
     },
     "execution_count": 7,
     "metadata": {},
     "output_type": "execute_result"
    }
   ],
   "source": [
    "name = 'peter'\n",
    "name.title()"
   ]
  },
  {
   "cell_type": "code",
   "execution_count": 8,
   "metadata": {},
   "outputs": [
    {
     "name": "stdout",
     "output_type": "stream",
     "text": [
      "Fiscal year: 2024: Quarter I\n",
      "Fiscal year: 2024: Quarter II\n",
      "Fiscal year: 2024: Quarter III\n",
      "Fiscal year: 2024: Quarter IV\n"
     ]
    }
   ],
   "source": [
    "from datetime import datetime\n",
    "\n",
    "def get_month_and_year(orderdate) -> int:\n",
    "    # Create a datetime object from the string date\n",
    "    yyyymmdd = datetime.strptime(orderdate, '%Y-%m-%d')\n",
    "    mm = yyyymmdd.month\n",
    "    yyyy = yyyymmdd.year\n",
    "    return mm, yyyy\n",
    "\n",
    "def create_fiscal_year_quarter(orderdate: str = '2024-01-16') -> str:\n",
    "    month, year = get_month_and_year(orderdate)\n",
    " \n",
    "    # Assuming the fiscal year starts in July\n",
    "    \n",
    "    if 6< month < 13 :\n",
    "        fiscal_year = year + 1\n",
    "    else:\n",
    "        fiscal_year = year\n",
    "\n",
    "    if 7 <= month <= 9:\n",
    "        return f\"Fiscal year: {fiscal_year}: Quarter I\"\n",
    "    elif 10 <= month <= 12:\n",
    "        return f\"Fiscal year: {fiscal_year}: Quarter II\"\n",
    "    elif 1 <= month <= 3:\n",
    "        return f\"Fiscal year: {fiscal_year}: Quarter III\"\n",
    "    elif 4 <= month <= 6:\n",
    "        return f\"Fiscal year: {fiscal_year}: Quarter IV\"\n",
    "\n",
    "print(create_fiscal_year_quarter('2023-7-28'))\n",
    "print(create_fiscal_year_quarter('2023-11-28'))\n",
    "print(create_fiscal_year_quarter('2024-2-28'))\n",
    "print(create_fiscal_year_quarter('2024-5-28'))\n",
    "\n"
   ]
  },
  {
   "cell_type": "code",
   "execution_count": 9,
   "metadata": {},
   "outputs": [
    {
     "name": "stdout",
     "output_type": "stream",
     "text": [
      "Calendar year: 2024: Quarter I\n",
      "Calendar year: 2024: Quarter II\n",
      "Calendar year: 2024: Quarter III\n",
      "Calendar year: 2024: Quarter IV\n"
     ]
    }
   ],
   "source": [
    "from datetime import datetime\n",
    "\n",
    "def get_month_and_year(orderdate) -> int:\n",
    "    # Create a datetime object from the string date\n",
    "    yyyymmdd = datetime.strptime(orderdate, '%Y-%m-%d')  # Changed '%y' to '%Y'\n",
    "    mm = yyyymmdd.month\n",
    "    yyyy = yyyymmdd.year\n",
    "    return mm, yyyy\n",
    "\n",
    "def create_calendar_year_quarter(orderdate: str = '2024-01-16') -> str:\n",
    "    month, year = get_month_and_year(orderdate)\n",
    "     \n",
    "    if 1 <= month <= 3:\n",
    "        return f\"Calendar year: {year}: Quarter I\"\n",
    "    elif 4 <= month <= 6:\n",
    "        return f\"Calendar year: {year}: Quarter II\"\n",
    "    elif 7 <= month <= 9:\n",
    "        return f\"Calendar year: {year}: Quarter III\"\n",
    "    elif 10 <= month <= 12:\n",
    "        return f\"Calendar year: {year}: Quarter IV\"\n",
    "\n",
    "# Test the function with different dates\n",
    "print(create_calendar_year_quarter('2024-02-16'))\n",
    "print(create_calendar_year_quarter('2024-05-16'))\n",
    "print(create_calendar_year_quarter('2024-08-16'))\n",
    "print(create_calendar_year_quarter('2024-10-16'))\n",
    "\n",
    "\n"
   ]
  },
  {
   "cell_type": "code",
   "execution_count": 10,
   "metadata": {},
   "outputs": [
    {
     "name": "stdout",
     "output_type": "stream",
     "text": [
      "366\n"
     ]
    }
   ],
   "source": [
    "from datetime import datetime\n",
    "\n",
    "def datediff(orderdate: str, deliverydate: str) -> int:\n",
    "    \n",
    "    # Create a datetime object from the string date in 'YYYYMMDD' format\n",
    "    if len(orderdate) == 8 :\n",
    "        startdate = datetime.strptime(orderdate, '%Y%m%d')  \n",
    "        enddate = datetime.strptime(deliverydate, '%Y%m%d') \n",
    "    elif len(orderdate) == 6 :\n",
    "        startdate = datetime.strptime(orderdate, '%y%m%d')  \n",
    "        enddate = datetime.strptime(deliverydate, '%y%m%d') \n",
    "    else : \n",
    "        ValueError(f\"Date format for either '{orderdate}' or {deliverydate} is not recognized\")\n",
    "          \n",
    "    return (enddate - startdate).days\n",
    "\n",
    "# Test the function\n",
    "a = datediff('20230115', '20240116')\n",
    "print (a)"
   ]
  },
  {
   "cell_type": "code",
   "execution_count": 11,
   "metadata": {},
   "outputs": [
    {
     "ename": "NameError",
     "evalue": "name 'deliverydate' is not defined",
     "output_type": "error",
     "traceback": [
      "\u001b[1;31m---------------------------------------------------------------------------\u001b[0m",
      "\u001b[1;31mNameError\u001b[0m                                 Traceback (most recent call last)",
      "Cell \u001b[1;32mIn[11], line 79\u001b[0m\n\u001b[0;32m     75\u001b[0m df \u001b[38;5;241m=\u001b[39m pd\u001b[38;5;241m.\u001b[39mread_csv(\u001b[38;5;124m\"\u001b[39m\u001b[38;5;124mecommerce.csv\u001b[39m\u001b[38;5;124m\"\u001b[39m)\n\u001b[0;32m     76\u001b[0m \u001b[38;5;66;03m# Apply the functions 'create_calendar_year_quarter', 'create_fiscal_year_quarter' to the 'order_date','delivery_date' column\u001b[39;00m\n\u001b[0;32m     77\u001b[0m \n\u001b[0;32m     78\u001b[0m \u001b[38;5;66;03m# Convert 'order_date' and 'delivery_date' to the correct format\u001b[39;00m\n\u001b[1;32m---> 79\u001b[0m df[\u001b[38;5;124m'\u001b[39m\u001b[38;5;124morder_fy_date\u001b[39m\u001b[38;5;124m'\u001b[39m] \u001b[38;5;241m=\u001b[39m \u001b[43mdf\u001b[49m\u001b[43m[\u001b[49m\u001b[38;5;124;43m'\u001b[39;49m\u001b[38;5;124;43morder_date\u001b[39;49m\u001b[38;5;124;43m'\u001b[39;49m\u001b[43m]\u001b[49m\u001b[38;5;241;43m.\u001b[39;49m\u001b[43mapply\u001b[49m\u001b[43m(\u001b[49m\u001b[43mcreate_fiscal_year_quarter\u001b[49m\u001b[43m)\u001b[49m\n\u001b[0;32m     80\u001b[0m df[\u001b[38;5;124m'\u001b[39m\u001b[38;5;124mdelivery_fy_date\u001b[39m\u001b[38;5;124m'\u001b[39m] \u001b[38;5;241m=\u001b[39m df[\u001b[38;5;124m'\u001b[39m\u001b[38;5;124mdelivery_date\u001b[39m\u001b[38;5;124m'\u001b[39m]\u001b[38;5;241m.\u001b[39mapply(create_fiscal_year_quarter)\n\u001b[0;32m     82\u001b[0m \u001b[38;5;66;03m# Apply the create_calendar_year_quarter function\u001b[39;00m\n",
      "File \u001b[1;32mc:\\Users\\Peter Heller\\AppData\\Local\\Programs\\Python\\Python312\\Lib\\site-packages\\pandas\\core\\series.py:4760\u001b[0m, in \u001b[0;36mSeries.apply\u001b[1;34m(self, func, convert_dtype, args, by_row, **kwargs)\u001b[0m\n\u001b[0;32m   4625\u001b[0m \u001b[38;5;28;01mdef\u001b[39;00m \u001b[38;5;21mapply\u001b[39m(\n\u001b[0;32m   4626\u001b[0m     \u001b[38;5;28mself\u001b[39m,\n\u001b[0;32m   4627\u001b[0m     func: AggFuncType,\n\u001b[1;32m   (...)\u001b[0m\n\u001b[0;32m   4632\u001b[0m     \u001b[38;5;241m*\u001b[39m\u001b[38;5;241m*\u001b[39mkwargs,\n\u001b[0;32m   4633\u001b[0m ) \u001b[38;5;241m-\u001b[39m\u001b[38;5;241m>\u001b[39m DataFrame \u001b[38;5;241m|\u001b[39m Series:\n\u001b[0;32m   4634\u001b[0m \u001b[38;5;250m    \u001b[39m\u001b[38;5;124;03m\"\"\"\u001b[39;00m\n\u001b[0;32m   4635\u001b[0m \u001b[38;5;124;03m    Invoke function on values of Series.\u001b[39;00m\n\u001b[0;32m   4636\u001b[0m \n\u001b[1;32m   (...)\u001b[0m\n\u001b[0;32m   4751\u001b[0m \u001b[38;5;124;03m    dtype: float64\u001b[39;00m\n\u001b[0;32m   4752\u001b[0m \u001b[38;5;124;03m    \"\"\"\u001b[39;00m\n\u001b[0;32m   4753\u001b[0m     \u001b[38;5;28;01mreturn\u001b[39;00m \u001b[43mSeriesApply\u001b[49m\u001b[43m(\u001b[49m\n\u001b[0;32m   4754\u001b[0m \u001b[43m        \u001b[49m\u001b[38;5;28;43mself\u001b[39;49m\u001b[43m,\u001b[49m\n\u001b[0;32m   4755\u001b[0m \u001b[43m        \u001b[49m\u001b[43mfunc\u001b[49m\u001b[43m,\u001b[49m\n\u001b[0;32m   4756\u001b[0m \u001b[43m        \u001b[49m\u001b[43mconvert_dtype\u001b[49m\u001b[38;5;241;43m=\u001b[39;49m\u001b[43mconvert_dtype\u001b[49m\u001b[43m,\u001b[49m\n\u001b[0;32m   4757\u001b[0m \u001b[43m        \u001b[49m\u001b[43mby_row\u001b[49m\u001b[38;5;241;43m=\u001b[39;49m\u001b[43mby_row\u001b[49m\u001b[43m,\u001b[49m\n\u001b[0;32m   4758\u001b[0m \u001b[43m        \u001b[49m\u001b[43margs\u001b[49m\u001b[38;5;241;43m=\u001b[39;49m\u001b[43margs\u001b[49m\u001b[43m,\u001b[49m\n\u001b[0;32m   4759\u001b[0m \u001b[43m        \u001b[49m\u001b[43mkwargs\u001b[49m\u001b[38;5;241;43m=\u001b[39;49m\u001b[43mkwargs\u001b[49m\u001b[43m,\u001b[49m\n\u001b[1;32m-> 4760\u001b[0m \u001b[43m    \u001b[49m\u001b[43m)\u001b[49m\u001b[38;5;241;43m.\u001b[39;49m\u001b[43mapply\u001b[49m\u001b[43m(\u001b[49m\u001b[43m)\u001b[49m\n",
      "File \u001b[1;32mc:\\Users\\Peter Heller\\AppData\\Local\\Programs\\Python\\Python312\\Lib\\site-packages\\pandas\\core\\apply.py:1207\u001b[0m, in \u001b[0;36mSeriesApply.apply\u001b[1;34m(self)\u001b[0m\n\u001b[0;32m   1204\u001b[0m     \u001b[38;5;28;01mreturn\u001b[39;00m \u001b[38;5;28mself\u001b[39m\u001b[38;5;241m.\u001b[39mapply_compat()\n\u001b[0;32m   1206\u001b[0m \u001b[38;5;66;03m# self.func is Callable\u001b[39;00m\n\u001b[1;32m-> 1207\u001b[0m \u001b[38;5;28;01mreturn\u001b[39;00m \u001b[38;5;28;43mself\u001b[39;49m\u001b[38;5;241;43m.\u001b[39;49m\u001b[43mapply_standard\u001b[49m\u001b[43m(\u001b[49m\u001b[43m)\u001b[49m\n",
      "File \u001b[1;32mc:\\Users\\Peter Heller\\AppData\\Local\\Programs\\Python\\Python312\\Lib\\site-packages\\pandas\\core\\apply.py:1287\u001b[0m, in \u001b[0;36mSeriesApply.apply_standard\u001b[1;34m(self)\u001b[0m\n\u001b[0;32m   1281\u001b[0m \u001b[38;5;66;03m# row-wise access\u001b[39;00m\n\u001b[0;32m   1282\u001b[0m \u001b[38;5;66;03m# apply doesn't have a `na_action` keyword and for backward compat reasons\u001b[39;00m\n\u001b[0;32m   1283\u001b[0m \u001b[38;5;66;03m# we need to give `na_action=\"ignore\"` for categorical data.\u001b[39;00m\n\u001b[0;32m   1284\u001b[0m \u001b[38;5;66;03m# TODO: remove the `na_action=\"ignore\"` when that default has been changed in\u001b[39;00m\n\u001b[0;32m   1285\u001b[0m \u001b[38;5;66;03m#  Categorical (GH51645).\u001b[39;00m\n\u001b[0;32m   1286\u001b[0m action \u001b[38;5;241m=\u001b[39m \u001b[38;5;124m\"\u001b[39m\u001b[38;5;124mignore\u001b[39m\u001b[38;5;124m\"\u001b[39m \u001b[38;5;28;01mif\u001b[39;00m \u001b[38;5;28misinstance\u001b[39m(obj\u001b[38;5;241m.\u001b[39mdtype, CategoricalDtype) \u001b[38;5;28;01melse\u001b[39;00m \u001b[38;5;28;01mNone\u001b[39;00m\n\u001b[1;32m-> 1287\u001b[0m mapped \u001b[38;5;241m=\u001b[39m \u001b[43mobj\u001b[49m\u001b[38;5;241;43m.\u001b[39;49m\u001b[43m_map_values\u001b[49m\u001b[43m(\u001b[49m\n\u001b[0;32m   1288\u001b[0m \u001b[43m    \u001b[49m\u001b[43mmapper\u001b[49m\u001b[38;5;241;43m=\u001b[39;49m\u001b[43mcurried\u001b[49m\u001b[43m,\u001b[49m\u001b[43m \u001b[49m\u001b[43mna_action\u001b[49m\u001b[38;5;241;43m=\u001b[39;49m\u001b[43maction\u001b[49m\u001b[43m,\u001b[49m\u001b[43m \u001b[49m\u001b[43mconvert\u001b[49m\u001b[38;5;241;43m=\u001b[39;49m\u001b[38;5;28;43mself\u001b[39;49m\u001b[38;5;241;43m.\u001b[39;49m\u001b[43mconvert_dtype\u001b[49m\n\u001b[0;32m   1289\u001b[0m \u001b[43m\u001b[49m\u001b[43m)\u001b[49m\n\u001b[0;32m   1291\u001b[0m \u001b[38;5;28;01mif\u001b[39;00m \u001b[38;5;28mlen\u001b[39m(mapped) \u001b[38;5;129;01mand\u001b[39;00m \u001b[38;5;28misinstance\u001b[39m(mapped[\u001b[38;5;241m0\u001b[39m], ABCSeries):\n\u001b[0;32m   1292\u001b[0m     \u001b[38;5;66;03m# GH#43986 Need to do list(mapped) in order to get treated as nested\u001b[39;00m\n\u001b[0;32m   1293\u001b[0m     \u001b[38;5;66;03m#  See also GH#25959 regarding EA support\u001b[39;00m\n\u001b[0;32m   1294\u001b[0m     \u001b[38;5;28;01mreturn\u001b[39;00m obj\u001b[38;5;241m.\u001b[39m_constructor_expanddim(\u001b[38;5;28mlist\u001b[39m(mapped), index\u001b[38;5;241m=\u001b[39mobj\u001b[38;5;241m.\u001b[39mindex)\n",
      "File \u001b[1;32mc:\\Users\\Peter Heller\\AppData\\Local\\Programs\\Python\\Python312\\Lib\\site-packages\\pandas\\core\\base.py:921\u001b[0m, in \u001b[0;36mIndexOpsMixin._map_values\u001b[1;34m(self, mapper, na_action, convert)\u001b[0m\n\u001b[0;32m    918\u001b[0m \u001b[38;5;28;01mif\u001b[39;00m \u001b[38;5;28misinstance\u001b[39m(arr, ExtensionArray):\n\u001b[0;32m    919\u001b[0m     \u001b[38;5;28;01mreturn\u001b[39;00m arr\u001b[38;5;241m.\u001b[39mmap(mapper, na_action\u001b[38;5;241m=\u001b[39mna_action)\n\u001b[1;32m--> 921\u001b[0m \u001b[38;5;28;01mreturn\u001b[39;00m \u001b[43malgorithms\u001b[49m\u001b[38;5;241;43m.\u001b[39;49m\u001b[43mmap_array\u001b[49m\u001b[43m(\u001b[49m\u001b[43marr\u001b[49m\u001b[43m,\u001b[49m\u001b[43m \u001b[49m\u001b[43mmapper\u001b[49m\u001b[43m,\u001b[49m\u001b[43m \u001b[49m\u001b[43mna_action\u001b[49m\u001b[38;5;241;43m=\u001b[39;49m\u001b[43mna_action\u001b[49m\u001b[43m,\u001b[49m\u001b[43m \u001b[49m\u001b[43mconvert\u001b[49m\u001b[38;5;241;43m=\u001b[39;49m\u001b[43mconvert\u001b[49m\u001b[43m)\u001b[49m\n",
      "File \u001b[1;32mc:\\Users\\Peter Heller\\AppData\\Local\\Programs\\Python\\Python312\\Lib\\site-packages\\pandas\\core\\algorithms.py:1814\u001b[0m, in \u001b[0;36mmap_array\u001b[1;34m(arr, mapper, na_action, convert)\u001b[0m\n\u001b[0;32m   1812\u001b[0m values \u001b[38;5;241m=\u001b[39m arr\u001b[38;5;241m.\u001b[39mastype(\u001b[38;5;28mobject\u001b[39m, copy\u001b[38;5;241m=\u001b[39m\u001b[38;5;28;01mFalse\u001b[39;00m)\n\u001b[0;32m   1813\u001b[0m \u001b[38;5;28;01mif\u001b[39;00m na_action \u001b[38;5;129;01mis\u001b[39;00m \u001b[38;5;28;01mNone\u001b[39;00m:\n\u001b[1;32m-> 1814\u001b[0m     \u001b[38;5;28;01mreturn\u001b[39;00m \u001b[43mlib\u001b[49m\u001b[38;5;241;43m.\u001b[39;49m\u001b[43mmap_infer\u001b[49m\u001b[43m(\u001b[49m\u001b[43mvalues\u001b[49m\u001b[43m,\u001b[49m\u001b[43m \u001b[49m\u001b[43mmapper\u001b[49m\u001b[43m,\u001b[49m\u001b[43m \u001b[49m\u001b[43mconvert\u001b[49m\u001b[38;5;241;43m=\u001b[39;49m\u001b[43mconvert\u001b[49m\u001b[43m)\u001b[49m\n\u001b[0;32m   1815\u001b[0m \u001b[38;5;28;01melse\u001b[39;00m:\n\u001b[0;32m   1816\u001b[0m     \u001b[38;5;28;01mreturn\u001b[39;00m lib\u001b[38;5;241m.\u001b[39mmap_infer_mask(\n\u001b[0;32m   1817\u001b[0m         values, mapper, mask\u001b[38;5;241m=\u001b[39misna(values)\u001b[38;5;241m.\u001b[39mview(np\u001b[38;5;241m.\u001b[39muint8), convert\u001b[38;5;241m=\u001b[39mconvert\n\u001b[0;32m   1818\u001b[0m     )\n",
      "File \u001b[1;32mlib.pyx:2920\u001b[0m, in \u001b[0;36mpandas._libs.lib.map_infer\u001b[1;34m()\u001b[0m\n",
      "Cell \u001b[1;32mIn[11], line 41\u001b[0m, in \u001b[0;36mcreate_fiscal_year_quarter\u001b[1;34m(orderdate)\u001b[0m\n\u001b[0;32m     40\u001b[0m \u001b[38;5;28;01mdef\u001b[39;00m \u001b[38;5;21mcreate_fiscal_year_quarter\u001b[39m(orderdate: \u001b[38;5;28mstr\u001b[39m \u001b[38;5;241m=\u001b[39m \u001b[38;5;124m'\u001b[39m\u001b[38;5;124m2024-01-16\u001b[39m\u001b[38;5;124m'\u001b[39m) \u001b[38;5;241m-\u001b[39m\u001b[38;5;241m>\u001b[39m \u001b[38;5;28mstr\u001b[39m:\n\u001b[1;32m---> 41\u001b[0m     month, year \u001b[38;5;241m=\u001b[39m \u001b[43mget_month_and_year\u001b[49m\u001b[43m(\u001b[49m\u001b[43morderdate\u001b[49m\u001b[43m)\u001b[49m\n\u001b[0;32m     43\u001b[0m     \u001b[38;5;66;03m# Assuming the fiscal year starts in July\u001b[39;00m\n\u001b[0;32m     45\u001b[0m     \u001b[38;5;28;01mif\u001b[39;00m \u001b[38;5;241m6\u001b[39m\u001b[38;5;241m<\u001b[39m month \u001b[38;5;241m<\u001b[39m \u001b[38;5;241m13\u001b[39m :\n",
      "Cell \u001b[1;32mIn[11], line 12\u001b[0m, in \u001b[0;36mget_month_and_year\u001b[1;34m(orderdate)\u001b[0m\n\u001b[0;32m     10\u001b[0m     startdate \u001b[38;5;241m=\u001b[39m datetime\u001b[38;5;241m.\u001b[39mstrptime(orderdate, \u001b[38;5;124m'\u001b[39m\u001b[38;5;124m%\u001b[39m\u001b[38;5;124my\u001b[39m\u001b[38;5;124m%\u001b[39m\u001b[38;5;124mm\u001b[39m\u001b[38;5;132;01m%d\u001b[39;00m\u001b[38;5;124m'\u001b[39m)  \n\u001b[0;32m     11\u001b[0m \u001b[38;5;28;01melse\u001b[39;00m : \n\u001b[1;32m---> 12\u001b[0m     \u001b[38;5;167;01mValueError\u001b[39;00m(\u001b[38;5;124mf\u001b[39m\u001b[38;5;124m\"\u001b[39m\u001b[38;5;124mDate format for either \u001b[39m\u001b[38;5;124m'\u001b[39m\u001b[38;5;132;01m{\u001b[39;00morderdate\u001b[38;5;132;01m}\u001b[39;00m\u001b[38;5;124m'\u001b[39m\u001b[38;5;124m or \u001b[39m\u001b[38;5;132;01m{\u001b[39;00m\u001b[43mdeliverydate\u001b[49m\u001b[38;5;132;01m}\u001b[39;00m\u001b[38;5;124m is not recognized\u001b[39m\u001b[38;5;124m\"\u001b[39m)\n\u001b[0;32m     14\u001b[0m yyyymmdd \u001b[38;5;241m=\u001b[39m datetime\u001b[38;5;241m.\u001b[39mstrptime(orderdate, \u001b[38;5;124m'\u001b[39m\u001b[38;5;124m%\u001b[39m\u001b[38;5;124mm/\u001b[39m\u001b[38;5;132;01m%d\u001b[39;00m\u001b[38;5;124m/\u001b[39m\u001b[38;5;124m%\u001b[39m\u001b[38;5;124mY\u001b[39m\u001b[38;5;124m'\u001b[39m)\n\u001b[0;32m     15\u001b[0m mm \u001b[38;5;241m=\u001b[39m yyyymmdd\u001b[38;5;241m.\u001b[39mmonth\n",
      "\u001b[1;31mNameError\u001b[0m: name 'deliverydate' is not defined"
     ]
    }
   ],
   "source": [
    "import pandas as pd\n",
    "#import numpy as np\n",
    "from datetime import datetime\n",
    "\n",
    "def get_month_and_year(orderdate) -> int:\n",
    "    # Create a datetime object from the string date in 'M/D/YY' format\n",
    "    if len(orderdate) == 8 :\n",
    "        startdate = datetime.strptime(orderdate, '%Y%m%d')  \n",
    "    elif len(orderdate) == 6 :\n",
    "        startdate = datetime.strptime(orderdate, '%y%m%d')  \n",
    "    else : \n",
    "        ValueError(f\"Date format for either '{orderdate}' or {deliverydate} is not recognized\")\n",
    "    \n",
    "    yyyymmdd = datetime.strptime(orderdate, '%m/%d/%Y')\n",
    "    mm = yyyymmdd.month\n",
    "    yyyy = yyyymmdd.year\n",
    "    return mm, yyyy\n",
    "\n",
    "def datediff(orderdate,deliverydate) -> int:\n",
    "    # Create a datetime object from the string date in 'M/D/YY' format\n",
    "    yyyymmdd = datetime.strptime(orderdate, '%m/%d/%Y')\n",
    "    mm = yyyymmdd.month\n",
    "    yyyy = yyyymmdd.year\n",
    "    return mm, yyyy\n",
    "\n",
    "def create_calendar_year_quarter(orderdate: str) -> str:\n",
    "    month, year = get_month_and_year(orderdate)\n",
    "     \n",
    "    if 1 <= month <= 3:\n",
    "        return f\"CY:{year}-Quarter I\"\n",
    "    elif 4 <= month <= 6:\n",
    "        return f\"CY:{year}-Quarter II\"\n",
    "    elif 7 <= month <= 9:\n",
    "        return f\"CY:{year}-Quarter III\"\n",
    "    elif 10 <= month <= 12:\n",
    "        return f\"CY:{year}-Quarter IV\"\n",
    "\n",
    "import pandas as pd\n",
    "\n",
    "def create_fiscal_year_quarter(orderdate: str = '2024-01-16') -> str:\n",
    "    month, year = get_month_and_year(orderdate)\n",
    " \n",
    "    # Assuming the fiscal year starts in July\n",
    "    \n",
    "    if 6< month < 13 :\n",
    "        fiscal_year = year + 1\n",
    "    else:\n",
    "        fiscal_year = year\n",
    "\n",
    "    if 7 <= month <= 9:\n",
    "        return f\"FY{fiscal_year}: Quarter I\"\n",
    "    elif 10 <= month <= 12:\n",
    "        return f\"FY{fiscal_year}: Quarter II\"\n",
    "    elif 1 <= month <= 3:\n",
    "        return f\"FY{fiscal_year}: Quarter III\"\n",
    "    elif 4 <= month <= 6:\n",
    "        return f\"FY{fiscal_year}: Quarter IV\"\n",
    "\n",
    "def datediff(orderdate: str, deliverydate: str) -> int:\n",
    "    \n",
    "    # Create a datetime object from the string date in 'YYYYMMDD' format\n",
    "    if len(orderdate) == 8 :\n",
    "        startdate = datetime.strptime(orderdate, '%Y%m%d')  \n",
    "        enddate = datetime.strptime(deliverydate, '%Y%m%d') \n",
    "    elif len(orderdate) == 6 :\n",
    "        startdate = datetime.strptime(orderdate, '%y%m%d')  \n",
    "        enddate = datetime.strptime(deliverydate, '%y%m%d') \n",
    "    else : \n",
    "        ValueError(f\"Date format for either '{orderdate}' or {deliverydate} is not recognized\")\n",
    "          \n",
    "    return (enddate - startdate).days  \n",
    "    \n",
    "    \n",
    "# Read the CSV data into a DataFrame\n",
    "df = pd.read_csv(\"ecommerce.csv\")\n",
    "# Apply the functions 'create_calendar_year_quarter', 'create_fiscal_year_quarter' to the 'order_date','delivery_date' column\n",
    "\n",
    "# Convert 'order_date' and 'delivery_date' to the correct format\n",
    "df['order_fy_date'] = df['order_date'].apply(create_fiscal_year_quarter)\n",
    "df['delivery_fy_date'] = df['delivery_date'].apply(create_fiscal_year_quarter)\n",
    "\n",
    "# Apply the create_calendar_year_quarter function\n",
    "df['order_cy_quarter'] = df['order_date'].apply(create_calendar_year_quarter)\n",
    "df['delivery_cy_quarter'] = df['delivery_date'].apply(create_calendar_year_quarter)\n",
    "\n",
    "def convert_date_format(date_str):\n",
    "    return datetime.strptime(date_str, '%m/%d/%y').strftime('%Y%m%d')\n",
    "\n",
    "# Read the CSV data into a DataFrame\n",
    "df = pd.read_csv(\"ecommerce.csv\")\n",
    "\n",
    "# Convert 'order_date' and 'delivery_date' to 'YYYYMMDD' format\n",
    "df['order_date'] = df['order_date'].apply(convert_date_format)\n",
    "df['delivery_date'] = df['delivery_date'].apply(convert_date_format)\n",
    "\n",
    "# Apply the datediff function\n",
    "df['order_to_delivery_days'] = df.apply(lambda x: datediff(x['order_date'], x['delivery_date']), axis=1)\n",
    "\n",
    "# Display the DataFrame\n",
    "print(df)\n"
   ]
  },
  {
   "cell_type": "code",
   "execution_count": null,
   "metadata": {},
   "outputs": [],
   "source": [
    "import pandas as pd\n",
    "from datetime import datetime\n",
    "\n",
    "def parse_date(date_str):\n",
    "    for fmt in ('%Y%m%d', '%y%m%d', '%m/%d/%Y', '%m/%d/%y'):\n",
    "        try:\n",
    "            return datetime.strptime(date_str, fmt)\n",
    "        except ValueError:\n",
    "            continue\n",
    "    raise ValueError(f\"Date format for '{date_str}' is not recognized\")\n",
    "\n",
    "\n",
    "def get_month_and_year(orderdate) -> int:\n",
    "    yyyymmdd = parse_date(orderdate)\n",
    "    return yyyymmdd.month, yyyymmdd.year\n",
    "\n",
    "def datediff(orderdate, deliverydate) -> int:\n",
    "    startdate = parse_date(orderdate)\n",
    "    enddate = parse_date(deliverydate)\n",
    "    return (enddate - startdate).days\n",
    "\n",
    "# ... [Other functions remain the same] ...\n",
    "\n",
    "# Read the CSV data into a DataFrame\n",
    "df = pd.read_csv(\"ecommerce.csv\")\n",
    "\n",
    "# Convert 'order_date' and 'delivery_date' to 'YYYYMMDD' format\n",
    "#df['order_date'] = df['order_date'].apply(lambda x: parse_date(x).strftime('%Y%m%d'))\n",
    "#df['delivery_date'] = df['delivery_date'].apply(lambda x: parse_date(x).strftime('%Y%m%d'))\n",
    "\n",
    "# Apply the functions\n",
    "df['order_fy_date'] = df['order_date'].apply(create_fiscal_year_quarter)\n",
    "df['delivery_fy_date'] = df['delivery_date'].apply(create_fiscal_year_quarter)\n",
    "df['order_cy_quarter'] = df['order_date'].apply(create_calendar_year_quarter)\n",
    "df['delivery_cy_quarter'] = df['delivery_date'].apply(create_calendar_year_quarter)\n",
    "df['order_to_delivery_days'] = df.apply(lambda x: datediff(x['order_date'], x['delivery_date']), axis=1)\n",
    "\n",
    "# Display the DataFrame\n",
    "print(df)\n"
   ]
  },
  {
   "cell_type": "markdown",
   "metadata": {},
   "source": [
    "#### <font color=yellow>****This Python script is designed to process and analyze e-commerce data, particularly focusing on****</font>\n",
    "    date-related aspects such as calendar and fiscal quarters, and the duration between order and delivery dates. The script uses the Pandas library for data manipulation and the datetime module for handling dates.\n",
    "\n",
    "Let's go through the code step-by-step:\n",
    "\n"
   ]
  },
  {
   "cell_type": "code",
   "execution_count": 1,
   "metadata": {},
   "outputs": [
    {
     "name": "stdout",
     "output_type": "stream",
     "text": [
      "      ID order_date delivery_date     order_cy_quarter  delivery_cy_quarter  \\\n",
      "0      1    5/24/98        2/5/99   CY:1998-Quarter II    CY:1999-Quarter I   \n",
      "1      2    4/22/92        3/6/98   CY:1992-Quarter II    CY:1998-Quarter I   \n",
      "2      4    2/10/91       8/26/92    CY:1991-Quarter I  CY:1992-Quarter III   \n",
      "3      5    7/21/92      11/20/97  CY:1992-Quarter III   CY:1997-Quarter IV   \n",
      "4      7     9/2/93       6/10/98  CY:1993-Quarter III   CY:1998-Quarter II   \n",
      "..   ...        ...           ...                  ...                  ...   \n",
      "496  990    6/24/91        2/2/96   CY:1991-Quarter II    CY:1996-Quarter I   \n",
      "497  991     9/9/91       3/30/98  CY:1991-Quarter III    CY:1998-Quarter I   \n",
      "498  993   11/16/90       4/27/98   CY:1990-Quarter IV   CY:1998-Quarter II   \n",
      "499  994     6/3/93       6/13/93   CY:1993-Quarter II   CY:1993-Quarter II   \n",
      "500  997     1/4/90       10/3/91    CY:1990-Quarter I   CY:1991-Quarter IV   \n",
      "\n",
      "        order_fy_quarter  delivery_fy_quarter  order_to_delivery_days  \n",
      "0     FY1998: Quarter IV  FY1999: Quarter III                     257  \n",
      "1     FY1992: Quarter IV  FY1998: Quarter III                    2144  \n",
      "2    FY1991: Quarter III    FY1993: Quarter I                     563  \n",
      "3      FY1993: Quarter I   FY1998: Quarter II                    1948  \n",
      "4      FY1994: Quarter I   FY1998: Quarter IV                    1742  \n",
      "..                   ...                  ...                     ...  \n",
      "496   FY1991: Quarter IV  FY1996: Quarter III                    1684  \n",
      "497    FY1992: Quarter I  FY1998: Quarter III                    2394  \n",
      "498   FY1991: Quarter II   FY1998: Quarter IV                    2719  \n",
      "499   FY1993: Quarter IV   FY1993: Quarter IV                      10  \n",
      "500  FY1990: Quarter III   FY1992: Quarter II                     637  \n",
      "\n",
      "[501 rows x 8 columns]\n"
     ]
    }
   ],
   "source": [
    "import pandas as pd\n",
    "from datetime import datetime\n",
    "\n",
    "# Function to get month and year from a date string\n",
    "def get_month_and_year(orderdate) -> (int, int):\n",
    "    try:\n",
    "        # First, try parsing with 'M/D/YYYY' format\n",
    "        date_obj = datetime.strptime(orderdate, '%m/%d/%Y')\n",
    "    except ValueError:\n",
    "        # If it fails, try parsing with 'M/D/YY' format\n",
    "        date_obj = datetime.strptime(orderdate, '%m/%d/%y')\n",
    "    return date_obj.month, date_obj.year\n",
    "\n",
    "\n",
    "# Function to create calendar year quarter\n",
    "def create_calendar_year_quarter(orderdate: str) -> str:\n",
    "    month, year = get_month_and_year(orderdate)\n",
    "    if 1 <= month <= 3:\n",
    "        return f\"CY:{year}-Quarter I\"\n",
    "    elif 4 <= month <= 6:\n",
    "        return f\"CY:{year}-Quarter II\"\n",
    "    elif 7 <= month <= 9:\n",
    "        return f\"CY:{year}-Quarter III\"\n",
    "    elif 10 <= month <= 12:\n",
    "        return f\"CY:{year}-Quarter IV\"\n",
    "\n",
    "# Function to create fiscal year quarter\n",
    "def create_fiscal_year_quarter(orderdate: str) -> str:\n",
    "    month, year = get_month_and_year(orderdate)\n",
    "    fiscal_year = year if month < 7 else year + 1\n",
    "    if 7 <= month <= 9:\n",
    "        return f\"FY{fiscal_year}: Quarter I\"\n",
    "    elif 10 <= month <= 12:\n",
    "        return f\"FY{fiscal_year}: Quarter II\"\n",
    "    elif 1 <= month <= 3:\n",
    "        return f\"FY{fiscal_year}: Quarter III\"\n",
    "    elif 4 <= month <= 6:\n",
    "        return f\"FY{fiscal_year}: Quarter IV\"\n",
    "\n",
    "# Function to calculate the difference in days between two dates\n",
    "def datediff(orderdate: str, deliverydate: str) -> int:\n",
    "    start_date = datetime.strptime(orderdate, '%m/%d/%y')\n",
    "    end_date = datetime.strptime(deliverydate, '%m/%d/%y')\n",
    "    return (end_date - start_date).days\n",
    "\n",
    "# Read the CSV data into a DataFrame\n",
    "df = pd.read_csv(\"ecommerce.csv\")\n",
    "\n",
    "# Apply the functions to the DataFrame\n",
    "df['order_cy_quarter'] = df['order_date'].apply(create_calendar_year_quarter)\n",
    "df['delivery_cy_quarter'] = df['delivery_date'].apply(create_calendar_year_quarter)\n",
    "df['order_fy_quarter'] = df['order_date'].apply(create_fiscal_year_quarter)\n",
    "df['delivery_fy_quarter'] = df['delivery_date'].apply(create_fiscal_year_quarter)\n",
    "df['order_to_delivery_days'] = df.apply(lambda x: datediff(x['order_date'], x['delivery_date']), axis=1)\n",
    "\n",
    "# Display the DataFrame\n",
    "print(df)\n"
   ]
  }
 ],
 "metadata": {
  "kernelspec": {
   "display_name": "Python 3",
   "language": "python",
   "name": "python3"
  },
  "language_info": {
   "codemirror_mode": {
    "name": "ipython",
    "version": 3
   },
   "file_extension": ".py",
   "mimetype": "text/x-python",
   "name": "python",
   "nbconvert_exporter": "python",
   "pygments_lexer": "ipython3",
   "version": "3.12.0"
  }
 },
 "nbformat": 4,
 "nbformat_minor": 2
}
